{
 "cells": [
  {
   "cell_type": "markdown",
   "metadata": {},
   "source": [
    "# Gaussian Process Tutorial Part 1: Introduction"
   ]
  },
  {
   "cell_type": "markdown",
   "metadata": {},
   "source": [
    "In this first notebook, we start with a high-level introduction and then implement our Gaussian Process regression class."
   ]
  },
  {
   "cell_type": "code",
   "execution_count": 1,
   "metadata": {
    "jupyter": {
     "source_hidden": true
    }
   },
   "outputs": [],
   "source": [
    "# Imports\n",
    "%matplotlib inline\n",
    "\n",
    "import sys\n",
    "import numpy as np\n",
    "import pandas as pd\n",
    "import scipy\n",
    "from scipy.optimize import minimize\n",
    "from scipy.spatial.distance import pdist, cdist, squareform\n",
    "import matplotlib\n",
    "import matplotlib.pyplot as plt\n",
    "from matplotlib import cm\n",
    "from mpl_toolkits.axes_grid1 import make_axes_locatable\n",
    "import matplotlib.gridspec as gridspec\n",
    "import seaborn as sns\n",
    "from matplotlib import cm\n",
    "from random import sample \n",
    "import pdb\n",
    "\n",
    "sns.set_style('darkgrid')\n",
    "np.random.seed(42)\n",
    "#"
   ]
  },
  {
   "cell_type": "markdown",
   "metadata": {},
   "source": [
    "REGRESSION PROBLEMS\n",
    "Suppose you have the task to make a predict for the value of y at the location marked by the red vertical line in the picture below."
   ]
  },
  {
   "cell_type": "code",
   "execution_count": 2,
   "metadata": {
    "jupyter": {
     "source_hidden": true
    }
   },
   "outputs": [
    {
     "data": {
      "image/png": "[encoded data removed]",
      "text/plain": [
       "<Figure size 648x216 with 3 Axes>"
      ]
     },
     "metadata": {
      "needs_background": "light"
     },
     "output_type": "display_data"
    }
   ],
   "source": [
    "def f1(x): \n",
    "    return x + 0.5*np.random.randn(len(x))\n",
    "\n",
    "def f2(x): \n",
    "    return np.sin(x) + 0.2*np.random.randn(len(x))\n",
    "\n",
    "def f3(x):     \n",
    "    return 0.5*np.sin(x)+ 0.1*np.random.randn(len(x))\n",
    "\n",
    "\n",
    "X1 = np.linspace(0, 5, 1000)\n",
    "X2 = np.linspace(0, 4, 1000)\n",
    "X3 = np.linspace(0, 10, 50)\n",
    "\n",
    "X_obs = np.array([0, 1.5, 1.75, 3, 4]).ravel()\n",
    "\n",
    "\n",
    "fig, (ax1, ax2, ax3) = plt.subplots(1,3, figsize=(9,3))\n",
    "ax1.plot(X1, f1(X1), 'b.', ms=1)\n",
    "ax1.axvline(4, lw=.5)\n",
    "ax1.axvline(6, lw=.5)\n",
    "ax1.set_xlim(0, 7)\n",
    "ax1.set_ylim(0, 7)\n",
    "\n",
    "ax2.plot(X2, f2(X2), 'b.', ms=1)\n",
    "ax2.axvline(3, lw=.5)\n",
    "ax2.axvline(5, lw=.5)\n",
    "ax2.set_xlim(0, 7)\n",
    "#ax2.set_ylim(0, 7)\n",
    "\n",
    "ax3.plot(X3, f3(X3), 'b.', ms=1)\n",
    "ax3.axvline(np.pi, lw=.5)\n",
    "ax3.axvline(11, lw=.5)\n",
    "ax3.set_xlim(0, 12)\n",
    "#ax3.set_ylim(0, 12)\n",
    "\n",
    "\n",
    "plt.show()"
   ]
  },
  {
   "cell_type": "markdown",
   "metadata": {},
   "source": [
    "FIRST\n",
    "In the first plot a value guessing will be around 7.5. It seems also pretty obvious, that a linear model is appropriate and using this we can  \n",
    "\n",
    "SECOND\n",
    "around 1\n",
    "\n",
    "THIRD\n",
    "around"
   ]
  },
  {
   "cell_type": "markdown",
   "metadata": {},
   "source": [
    "This is where GP's enter the stage. Instead of specifying a specific functional form one uses a pripor over all funtions."
   ]
  },
  {
   "cell_type": "code",
   "execution_count": null,
   "metadata": {},
   "outputs": [],
   "source": []
  },
  {
   "cell_type": "code",
   "execution_count": null,
   "metadata": {},
   "outputs": [],
   "source": []
  },
  {
   "cell_type": "markdown",
   "metadata": {},
   "source": [
    "All points are drawn from a multivariate Normal distribution."
   ]
  },
  {
   "cell_type": "markdown",
   "metadata": {},
   "source": [
    "Before we start this tutorial, I will repeat the key part of Gaussian Distributions since it is important.\n",
    "Like the name might already tell, the Gaussian distribution plays a central role in Gaussian Processes. Therefore I will shortly repeat one of the central properties of a Gaussian distribution which is used for GP's."
   ]
  },
  {
   "cell_type": "markdown",
   "metadata": {},
   "source": [
    "Suppose we have a $nx1$ vector Y which is multivariate normally distributed. The conditional distribution\n",
    "Partitioning this vector into the $mx1$ vector $y_{1}$ and $(n-m)x1$ vector $y_{2}$ the  \n",
    "\n",
    "\n",
    "$Y = \\begin{bmatrix}y_{1}\\\\y_{2}\\end{bmatrix} \\sim \\mathcal{N}\\left(\\begin{bmatrix} \\mu_{1}\\\\ \\mu_{2}\\end{bmatrix},\\begin{bmatrix}\\Sigma_{11} && \\Sigma_{12}\\\\ \\Sigma_{21} && \\Sigma_{22}\\end{bmatrix} \\right)$\n",
    "\n",
    "$y_2 \\vert y_{1} \\sim \\mathcal{N}\\left(\\bar{\\mu},\\bar{\\Sigma} \\right)$\n",
    "\n",
    "with \n",
    "\n",
    "$\\bar{\\mu} = \\mu_{2}+\\Sigma_{21}\\Sigma_{11}^{-1}(\\mu_{1}-y_{1})$\n",
    "\n",
    "$\\bar{\\Sigma} = \\Sigma_{22}- \\Sigma_{21}\\Sigma_{11}^{-1}\\Sigma_{12}$\n",
    "\n"
   ]
  },
  {
   "cell_type": "code",
   "execution_count": null,
   "metadata": {},
   "outputs": [],
   "source": []
  },
  {
   "cell_type": "markdown",
   "metadata": {},
   "source": [
    "Example from above using GP's"
   ]
  },
  {
   "cell_type": "code",
   "execution_count": null,
   "metadata": {},
   "outputs": [],
   "source": []
  },
  {
   "cell_type": "markdown",
   "metadata": {},
   "source": [
    "All points are drawn from a MVN. The key part to determine is the cov-function."
   ]
  },
  {
   "cell_type": "markdown",
   "metadata": {},
   "source": [
    "Before we start to implement all parts ourself, I will first show a small example."
   ]
  },
  {
   "cell_type": "code",
   "execution_count": 3,
   "metadata": {
    "jupyter": {
     "source_hidden": true
    }
   },
   "outputs": [],
   "source": [
    "class GPR():\n",
    "   \n",
    "    def __init__(self, kernel, optimizer='L-BFGS-B', noise_var=1e-8):\n",
    "        self.kernel = kernel\n",
    "        self.noise_var = noise_var\n",
    "        self.optimizer = optimizer\n",
    "    \n",
    "        \n",
    "    # 'Public' methods\n",
    "    def sample_prior(self, X_test, n_samples=1):\n",
    "        y_mean = np.zeros(X_test.shape[0])\n",
    "        y_cov = self.kernel(X_test)\n",
    "        return self._sample_multivariate_gaussian(y_mean, y_cov, n_samples)\n",
    "    \n",
    "    \n",
    "    def sample_posterior(self, X_train, y_train, X_test, n_samples=1):\n",
    "        # compute alpha\n",
    "        K = self.kernel(X_train)\n",
    "        K[np.diag_indices_from(K)] += self.noise_var\n",
    "        L = self._cholesky_factorise(K)\n",
    "        alpha = np.linalg.solve(L.T, np.linalg.solve(L, y_train))\n",
    "\n",
    "        # Compute posterior mean\n",
    "        K_trans = self.kernel(X_test, X_train)\n",
    "        y_mean = K_trans.dot(alpha)\n",
    "\n",
    "        # Compute posterior covariance\n",
    "        v = np.linalg.solve(L, K_trans.T)  # L.T * K_inv * K_trans.T\n",
    "        y_cov = self.kernel(X_test) - np.dot(v.T, v)\n",
    "\n",
    "        return self._sample_multivariate_gaussian(y_mean, y_cov, n_samples), y_mean, y_cov\n",
    "    \n",
    "    \n",
    "    def log_marginal_likelihood(self, X_train, y_train, theta, noise_var=None):\n",
    "    \n",
    "        if noise_var is None:\n",
    "            noise_var = self.noise_var\n",
    "\n",
    "        # Build K(X, X)\n",
    "        self.kernel.theta = theta\n",
    "        K = self.kernel(X_train)    \n",
    "        K[np.diag_indices_from(K)] += noise_var\n",
    "\n",
    "        # Compute L and alpha for this K (theta).\n",
    "        L = self._cholesky_factorise(K)\n",
    "        alpha = np.linalg.solve(L.T, np.linalg.solve(L, y_train))\n",
    "\n",
    "        # Compute log marginal likelihood.\n",
    "        log_likelihood = -0.5 * np.dot(y_train.T, alpha)\n",
    "        log_likelihood -= np.log(np.diag(L)).sum()\n",
    "        log_likelihood -= K.shape[0] / 2 * np.log(2 * np.pi)\n",
    "\n",
    "        return log_likelihood\n",
    "    \n",
    "    \n",
    "    def optimize(self, X_train, y_train):\n",
    "    \n",
    "        def obj_func(theta, X_train, y_train):\n",
    "                return -self.log_marginal_likelihood(X_train, y_train, theta)\n",
    "\n",
    "        results = minimize(obj_func, \n",
    "                           self.kernel.theta, \n",
    "                           args=(X_train, y_train), \n",
    "                           method=self.optimizer, \n",
    "                           jac=None,\n",
    "                           bounds=self.kernel.bounds)\n",
    "\n",
    "        # Store results of optimization.\n",
    "        self.max_log_marginal_likelihood_value = -results['fun']\n",
    "        self.kernel.theta_MAP = results['x']\n",
    "\n",
    "        return results['success']\n",
    "    \n",
    "    \n",
    "    # 'Private' helper methods\n",
    "    def _cholesky_factorise(self, y_cov):\n",
    "        try:\n",
    "            L = np.linalg.cholesky(y_cov)\n",
    "        except np.linalg.LinAlgError as e:\n",
    "            e.args = (\"The kernel, %s, is not returning a \" \n",
    "                      \"positive definite matrix. Try increasing\"\n",
    "                      \" the noise variance of the GP or using\"\n",
    "                      \" a larger value for epsilon. \"\n",
    "                      % self.kernel,) + e.args\n",
    "            raise\n",
    "        return L\n",
    "    \n",
    "    \n",
    "    def _sample_multivariate_gaussian(self, y_mean, y_cov, n_samples=1, epsilon=1e-10):\n",
    "        y_cov[np.diag_indices_from(y_cov)] += epsilon  # for numerical stability\n",
    "        L = self._cholesky_factorise(y_cov)\n",
    "        u = np.random.randn(y_mean.shape[0], n_samples)\n",
    "        z = np.dot(L, u) + y_mean#[:, np.newaxis]\n",
    "        return z\n",
    "\n"
   ]
  },
  {
   "cell_type": "code",
   "execution_count": 4,
   "metadata": {},
   "outputs": [],
   "source": [
    "class SquaredExponential():\n",
    "    def __init__(self, length_scale=1.0, sigma=1.0, length_scale_bounds=(1e-5, 1e5)):\n",
    "        self.theta = [length_scale, sigma]\n",
    "        self.bounds = [length_scale_bounds]\n",
    "    def __call__(self, X1, X2=None):\n",
    "        if X2 is None:\n",
    "            # K(X1, X1) is symmetric so avoid redundant computation using pdist.\n",
    "            dists = pdist(X1 / self.theta[0], metric='sqeuclidean')\n",
    "            K = np.exp(-0.5 * dists)\n",
    "            K = squareform(K)\n",
    "            np.fill_diagonal(K, 1)\n",
    "        else:\n",
    "            dists = cdist(X1 / self.theta[0], X2 / self.theta[0], metric='sqeuclidean')\n",
    "            K = np.exp(-0.5 * dists)\n",
    "            \n",
    "        return self.theta[1]*K"
   ]
  },
  {
   "cell_type": "code",
   "execution_count": 5,
   "metadata": {},
   "outputs": [],
   "source": [
    "X_train = X3.reshape((-1, 1))\n",
    "y_train = f3(X3).reshape((-1, 1))\n",
    "X_test = np.array([[3], [5], [11]])\n",
    "X_post = np.linspace(-2, 12, 100).reshape((-1, 1))"
   ]
  },
  {
   "cell_type": "code",
   "execution_count": 6,
   "metadata": {},
   "outputs": [],
   "source": [
    "gp1 = GPR(kernel=SquaredExponential(), noise_var=0.1)"
   ]
  },
  {
   "cell_type": "code",
   "execution_count": 7,
   "metadata": {},
   "outputs": [],
   "source": [
    "f_star_samples, f_star_mean, f_star_covar = gp1.sample_posterior(X_train, y_train, X_test, n_samples=5)"
   ]
  },
  {
   "cell_type": "code",
   "execution_count": 8,
   "metadata": {},
   "outputs": [],
   "source": [
    "f_post_samples, f_post_mean , f_post_covar = gp1.sample_posterior(X_train, y_train, X_post, n_samples=5)"
   ]
  },
  {
   "cell_type": "code",
   "execution_count": 9,
   "metadata": {},
   "outputs": [
    {
     "data": {
      "image/png": "[encoded data removed]",
      "text/plain": [
       "<Figure size 576x216 with 1 Axes>"
      ]
     },
     "metadata": {
      "needs_background": "light"
     },
     "output_type": "display_data"
    }
   ],
   "source": [
    "pointwise_variances = f_post_covar.diagonal()\n",
    "error = 1.96 * np.sqrt(pointwise_variances)\n",
    "\n",
    "# plot\n",
    "fig, ax = plt.subplots(figsize=(8, 3))\n",
    "#if f_post_samples is not None:\n",
    "#    ax.plot(X_post, f_post_samples, ms=2, lw=1)\n",
    "ax.plot(X_train.ravel(), y_train.ravel(), 'b.', ms=2)\n",
    "ax.plot(X_post.ravel(), f_post_mean.ravel(), 'r-', ms=1, lw=.5)\n",
    "ax.fill_between(X_post.ravel(), f_post_mean.ravel()-error, f_post_mean.ravel()+error, alpha=.4)\n",
    "ax.plot(X_test.ravel(), f_star_mean.ravel(), 'r.', ms=12)\n",
    "#ax.plot(X_train, y_train, 'r+', ms=6)\n",
    "#ax.plot(X_test, f1(X_test), 'r-', lw=.1)\n",
    "plt.show()\n",
    "#"
   ]
  },
  {
   "cell_type": "markdown",
   "metadata": {},
   "source": [
    "## Kernels"
   ]
  },
  {
   "cell_type": "code",
   "execution_count": 10,
   "metadata": {},
   "outputs": [],
   "source": [
    "class WhiteNoise():\n",
    "    def __init__(self, signal_variance=1.0, signal_variance_bounds=(1e-5, 1e5)):\n",
    "        self.theta = [signal_variance]\n",
    "        self.bounds = [signal_variance_bounds]\n",
    "    def __call__(self, X1, X2=None):\n",
    "        if X2 is None:\n",
    "            K = self.theta[0] * np.dot(X1, X1.T)\n",
    "        else:\n",
    "            K = self.theta[0] * np.dot(X1, X2.T)\n",
    "        return K\n",
    "\n",
    "class Linear():\n",
    "    def __init__(self, signal_variance=1.0, signal_variance_bounds=(1e-5, 1e5)):\n",
    "        self.theta = [signal_variance]\n",
    "        self.bounds = [signal_variance_bounds]\n",
    "    def __call__(self, X1, X2=None):\n",
    "        if X2 is None:\n",
    "            K = self.theta[0] * np.dot(X1, X1.T)\n",
    "        else:\n",
    "            K = self.theta[0] * np.dot(X1, X2.T)\n",
    "        return K\n",
    "    \n",
    "\n",
    "class SquaredExponential():\n",
    "    def __init__(self, length_scale=1.0, sigma=1.0, length_scale_bounds=(1e-5, 1e5)):\n",
    "        self.theta = [length_scale, sigma]\n",
    "        self.bounds = [length_scale_bounds]\n",
    "    def __call__(self, X1, X2=None):\n",
    "        if X2 is None:\n",
    "            # K(X1, X1) is symmetric so avoid redundant computation using pdist.\n",
    "            dists = pdist(X1 / self.theta[0], metric='sqeuclidean')\n",
    "            K = np.exp(-0.5 * dists)\n",
    "            K = squareform(K)\n",
    "            np.fill_diagonal(K, 1)\n",
    "        else:\n",
    "            dists = cdist(X1 / self.theta[0], X2 / self.theta[0], metric='sqeuclidean')\n",
    "            K = np.exp(-0.5 * dists)\n",
    "            \n",
    "        return self.theta[1]*K\n",
    "\n",
    "\n",
    "class RationalQuadratic():\n",
    "    def __init__(self, length_scale=1.0, alpha=1.0, sigma=1.0, length_scale_bounds=(1e-5, 1e5), alpha_bounds=(1e-5,1e5)):\n",
    "        self.theta = [length_scale, alpha, sigma]\n",
    "        self.bounds = [length_scale_bounds, alpha_bounds]\n",
    "    def __call__(self, X1, X2=None):\n",
    "        if X2 is None:\n",
    "            # K(X1, X1) is symmetric so avoid redundant computation using pdist.\n",
    "            dists = pdist(X1 / self.theta[0]*np.sqrt(self.theta[1]), metric='sqeuclidean')\n",
    "            K = (1 + dists)**(-self.theta[1])\n",
    "            K = squareform(K)\n",
    "            np.fill_diagonal(K, 1)\n",
    "        else:\n",
    "            dists = cdist(X1 / self.theta[0]*np.sqrt(self.theta[1]), X2 / self.theta[0]*np.sqrt(self.theta[1]), metric='sqeuclidean')\n",
    "            K = (1 + dists)**(-self.theta[1])\n",
    "        return self.theta[2]*K\n",
    "    \n",
    "\n",
    "class Periodic():\n",
    "    def __init__(self, length_scale=1.0, period=1.0, sigma=1.0, frequency_bounds=(1e-5, 1e5)):\n",
    "        self.theta = [length_scale, period, sigma]\n",
    "        self.bounds = [frequency_bounds]\n",
    "    def __call__(self, X1, X2=None):\n",
    "        if X2 is None:\n",
    "            # K(X1, X1) is symmetric so avoid redundant computation using pdist.\n",
    "            dists = pdist(X1, lambda xi, xj: np.dot(np.sin(np.pi * (xi - xj)/self.theta[1]).T/self.theta[1], \n",
    "                np.sin(np.pi * (xi - xj)/self.theta[1]))/self.theta[0])\n",
    "            K = np.exp(-2*dists)\n",
    "            K = squareform(K)\n",
    "            np.fill_diagonal(K, 1)\n",
    "        else:\n",
    "            dists = cdist(X1, X2, lambda xi, xj: np.dot(np.sin(np.pi * (xi - xj)/self.theta[1]).T/self.theta[0], \n",
    "                np.sin(np.pi * (xi - xj)/self.theta[1]))/self.theta[0])\n",
    "            K = np.exp(-2*dists)\n",
    "        return self.theta[2]*K\n",
    "    \n",
    "#class Matern():\n",
    "#    def __init__(self, length_scale=1.0, frequency=1.0, frequency_bounds=(1e-5, 1e5)):\n",
    "#        self.theta = [length_scale, frequency]\n",
    "#        self.bounds = [frequency_bounds]\n",
    "#    def __call__(self, X1, X2=None):\n",
    "#        if X2 is None:\n",
    "#            # K(X1, X1) is symmetric so avoid redundant computation using pdist.\n",
    "#            dists = pdist(X1, lambda xi, xj: np.dot(np.sin(np.pi * (xi - xj)/self.theta[1]).T/self.theta[1], \n",
    "#                np.sin(np.pi * (xi - xj)/self.theta[1]))/self.theta[0])\n",
    "#            K = np.exp(-2*dists)\n",
    "#            K = squareform(K)\n",
    "#            np.fill_diagonal(K, 1)\n",
    "#        else:\n",
    "#            dists = cdist(X1, X2, lambda xi, xj: np.dot(np.sin(np.pi * (xi - xj)/self.theta[1]).T/self.theta[0], \n",
    "#                np.sin(np.pi * (xi - xj)/self.theta[1]))/self.theta[0])\n",
    "#            K = np.exp(-2*dists)\n",
    "#        return K\n",
    "\n",
    "\n"
   ]
  }
 ],
 "metadata": {
  "kernelspec": {
   "display_name": "Python 3",
   "language": "python",
   "name": "python3"
  },
  "language_info": {
   "codemirror_mode": {
    "name": "ipython",
    "version": 3
   },
   "file_extension": ".py",
   "mimetype": "text/x-python",
   "name": "python",
   "nbconvert_exporter": "python",
   "pygments_lexer": "ipython3",
   "version": "3.6.8"
  }
 },
 "nbformat": 4,
 "nbformat_minor": 4
}

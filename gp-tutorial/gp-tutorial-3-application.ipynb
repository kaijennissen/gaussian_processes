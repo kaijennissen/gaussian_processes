{
 "cells": [
  {
   "cell_type": "markdown",
   "metadata": {},
   "source": [
    "# Gaussian Process Tutorial - Part 3: Application"
   ]
  },
  {
   "cell_type": "code",
   "execution_count": 1,
   "metadata": {
    "jupyter": {
     "source_hidden": true
    }
   },
   "outputs": [],
   "source": [
    "# Imports\n",
    "%matplotlib inline\n",
    "\n",
    "import sys\n",
    "import numpy as np\n",
    "import pandas as pd\n",
    "import scipy\n",
    "from scipy.optimize import minimize\n",
    "from scipy.spatial.distance import pdist, cdist, squareform\n",
    "import matplotlib\n",
    "import matplotlib.pyplot as plt\n",
    "from matplotlib import cm\n",
    "from mpl_toolkits.axes_grid1 import make_axes_locatable\n",
    "import matplotlib.gridspec as gridspec\n",
    "import seaborn as sns\n",
    "from matplotlib import cm\n",
    "from random import sample \n",
    "import pdb\n",
    "import tensorflow as tf\n",
    "import gpflow\n",
    "\n",
    "sns.set_style('darkgrid')\n",
    "np.random.seed(42)\n",
    "#"
   ]
  },
  {
   "cell_type": "code",
   "execution_count": 2,
   "metadata": {
    "jupyter": {
     "source_hidden": true
    }
   },
   "outputs": [],
   "source": [
    "class GPR():\n",
    "   \n",
    "    def __init__(self, kernel, mean=None, optimizer='L-BFGS-B', noise_var=1e-8):\n",
    "        self.kernel = kernel\n",
    "        self.noise_var = noise_var\n",
    "        self.optimizer = optimizer\n",
    "    \n",
    "        \n",
    "    # 'Public' methods\n",
    "    def sample_prior(self, X_test, mean=None, n_samples=1):\n",
    "        if mean is not None:\n",
    "            y_mean = mean\n",
    "        else:\n",
    "            y_mean = np.zeros(X_test.shape[0])\n",
    "        y_cov = self.kernel(X_test)\n",
    "        return self._sample_multivariate_gaussian(y_mean, y_cov, n_samples)\n",
    "    \n",
    "    \n",
    "    def sample_posterior(self, X_train, y_train, X_test, y_train_mean=None, y_test_mean=None, n_samples=1):\n",
    "        if y_train_mean is None:\n",
    "            y_train_mean = np.zeros(len(y_train)).reshape((-1,1))\n",
    "        if y_test_mean is None:\n",
    "            y_test_mean = np.zeros(len(X_test)).reshape((-1,1))\n",
    "        # compute alpha\n",
    "        K_aa = self.kernel(X_train)\n",
    "        K_aa[np.diag_indices_from(K_aa)] += self.noise_var\n",
    "        K_aa_inv = np.linalg.solve(K_aa, np.eye(K_aa.shape[0]))\n",
    "        #L = self._cholesky_factorise(K_aa)\n",
    "        #alpha = np.linalg.solve(L.T, np.linalg.solve(L, y_train)) # Forward/Backward-Solve\n",
    "\n",
    "        # Compute posterior mean\n",
    "        #K_trans = self.kernel(X_test, X_train)\n",
    "        K_ba = self.kernel(X_test, X_train)\n",
    "        alpha = K_ba.dot(K_aa_inv)\n",
    "        y_mean = y_test_mean + alpha.dot(y_train-y_train_mean)\n",
    "        #y_mean = K_ba.dot(alpha)\n",
    "\n",
    "        # Compute posterior covariance\n",
    "        K_bb = self.kernel(X_test)\n",
    "        K_bb[np.diag_indices_from(K_bb)] += self.noise_var\n",
    "        y_cov = K_bb - alpha.dot(K_ba.T) # K_ab = K_ba-T\n",
    "        #v = np.linalg.solve(L, K_ba.T)  # L.T * K_inv * K_trans.T\n",
    "        #y_cov = K_bb - np.dot(v.T, v)\n",
    "\n",
    "        return self._sample_multivariate_gaussian(y_mean, y_cov, n_samples, epsilon=1e-7), y_mean, y_cov\n",
    "    \n",
    "    \n",
    "    def log_marginal_likelihood(self, X_train, y_train, theta, noise_var=None):\n",
    "    \n",
    "        if noise_var is None:\n",
    "            noise_var = self.noise_var\n",
    "\n",
    "        # Build K(X, X)\n",
    "        self.kernel.theta = theta\n",
    "        K = self.kernel(X_train)    \n",
    "        K[np.diag_indices_from(K)] += noise_var\n",
    "\n",
    "        # Compute L and alpha for this K (theta).\n",
    "        L = self._cholesky_factorise(K)\n",
    "        alpha = np.linalg.solve(L.T, np.linalg.solve(L, y_train))\n",
    "\n",
    "        # Compute log marginal likelihood.\n",
    "        log_likelihood = -0.5 * np.dot(y_train.T, alpha)\n",
    "        log_likelihood -= np.log(np.diag(L)).sum()\n",
    "        log_likelihood -= K.shape[0] / 2 * np.log(2 * np.pi)\n",
    "\n",
    "        return log_likelihood\n",
    "    \n",
    "    \n",
    "    def optimize(self, X_train, y_train):\n",
    "    \n",
    "        def obj_func(theta, X_train, y_train):\n",
    "                return -self.log_marginal_likelihood(X_train, y_train, theta)\n",
    "\n",
    "        results = minimize(obj_func, \n",
    "                           self.kernel.theta, \n",
    "                           args=(X_train, y_train), \n",
    "                           method=self.optimizer, \n",
    "                           jac=None,\n",
    "                           bounds=self.kernel.bounds)\n",
    "\n",
    "        # Store results of optimization.\n",
    "        self.max_log_marginal_likelihood_value = -results['fun']\n",
    "        self.kernel.theta_MAP = results['x']\n",
    "\n",
    "        return results['success']\n",
    "    \n",
    "    \n",
    "    # 'Private' helper methods\n",
    "    def _cholesky_factorise(self, y_cov):\n",
    "        try:\n",
    "            L = np.linalg.cholesky(y_cov)\n",
    "        except np.linalg.LinAlgError as e:\n",
    "            e.args = (\"The kernel, %s, is not returning a \" \n",
    "                      \"positive definite matrix. Try increasing\"\n",
    "                      \" the noise variance of the GP or using\"\n",
    "                      \" a larger value for epsilon. \"\n",
    "                      % self.kernel,) + e.args\n",
    "            raise\n",
    "        return L\n",
    "    \n",
    "    \n",
    "    def _sample_multivariate_gaussian(self, y_mean, y_cov, n_samples=1, epsilon=1e-10):\n",
    "        \n",
    "        y_cov[np.diag_indices_from(y_cov)] += epsilon  # for numerical stability\n",
    "        try:\n",
    "            L = self._cholesky_factorise(y_cov)\n",
    "            u = np.random.randn(y_mean.shape[0], n_samples)\n",
    "            z = np.dot(L, u) + y_mean#[:, np.newaxis]\n",
    "            return z\n",
    "        except: \n",
    "            print(\"The kernel, %s, is not returning a \" \n",
    "                  \"positive definite matrix. Try increasing\"\n",
    "                  \" the noise variance of the GP or using\"\n",
    "                  \" a larger value for epsilon. \")\n",
    "            return None\n",
    "            \n",
    "\n",
    "\n"
   ]
  },
  {
   "cell_type": "code",
   "execution_count": 3,
   "metadata": {
    "jupyter": {
     "source_hidden": true
    }
   },
   "outputs": [],
   "source": [
    "class WhiteNoise():\n",
    "    def __init__(self, signal_variance=1.0, signal_variance_bounds=(1e-5, 1e5)):\n",
    "        self.theta = [signal_variance]\n",
    "        self.bounds = [signal_variance_bounds]\n",
    "    def __call__(self, X1, X2=None):\n",
    "        if X2 is None:\n",
    "            K = self.theta[0] * np.eye(X1.shape[0])\n",
    "        else:\n",
    "            K = self.theta[0] * np.eye(X1.shape[0], X2.shape[0])\n",
    "        return K\n",
    "\n",
    "class Linear():\n",
    "    def __init__(self, signal_variance=1.0, signal_variance_bounds=(1e-5, 1e5)):\n",
    "        self.theta = [signal_variance]\n",
    "        self.bounds = [signal_variance_bounds]\n",
    "    def __call__(self, X1, X2=None):\n",
    "        if X2 is None:\n",
    "            K = self.theta[0] * np.dot(X1, X1.T)\n",
    "        else:\n",
    "            K = self.theta[0] * np.dot(X1, X2.T)\n",
    "        return K\n",
    "    \n",
    "\n",
    "class SquaredExponential():\n",
    "    def __init__(self, length_scale=1.0, sigma=1.0, length_scale_bounds=(1e-5, 1e5)):\n",
    "        self.theta = [length_scale, sigma]\n",
    "        self.bounds = [length_scale_bounds]\n",
    "    def __call__(self, X1, X2=None):\n",
    "        if X2 is None:\n",
    "            # K(X1, X1) is symmetric so avoid redundant computation using pdist.\n",
    "            dists = pdist(X1 / self.theta[0], metric='sqeuclidean')\n",
    "            K = np.exp(-0.5 * dists)\n",
    "            K = squareform(K)\n",
    "            np.fill_diagonal(K, 1)\n",
    "            K = self.theta[1]*K\n",
    "        else:\n",
    "            dists = cdist(X1 / self.theta[0], X2 / self.theta[0], metric='sqeuclidean')\n",
    "            K = self.theta[1]*np.exp(-0.5 * dists)\n",
    "            \n",
    "        return K\n",
    "\n",
    "\n",
    "class RationalQuadratic():\n",
    "    def __init__(self, length_scale=1.0, alpha=1.0, sigma=1.0, length_scale_bounds=(1e-5, 1e5), alpha_bounds=(1e-5,1e5)):\n",
    "        self.theta = [length_scale, alpha, sigma]\n",
    "        self.bounds = [length_scale_bounds, alpha_bounds]\n",
    "    def __call__(self, X1, X2=None):\n",
    "        if X2 is None:\n",
    "            # K(X1, X1) is symmetric so avoid redundant computation using pdist.\n",
    "            dists = pdist(X1 / self.theta[0]*np.sqrt(self.theta[1]), metric='sqeuclidean')\n",
    "            K = (1 + dists)**(-self.theta[1])\n",
    "            K = squareform(K)\n",
    "            np.fill_diagonal(K, 1)\n",
    "        else:\n",
    "            dists = cdist(X1 / self.theta[0]*np.sqrt(self.theta[1]), X2 / self.theta[0]*np.sqrt(self.theta[1]), metric='sqeuclidean')\n",
    "            K = (1 + dists)**(-self.theta[1])\n",
    "        return self.theta[2]*K\n",
    "    \n",
    "\n",
    "class Periodic():\n",
    "    def __init__(self, length_scale=1.0, period=1.0, sigma=1.0, frequency_bounds=(1e-5, 1e5)):\n",
    "        self.theta = [length_scale, period, sigma]\n",
    "        self.bounds = [frequency_bounds]\n",
    "    def __call__(self, X1, X2=None):\n",
    "        if X2 is None:\n",
    "            # K(X1, X1) is symmetric so avoid redundant computation using pdist.\n",
    "            dists = pdist(X1, lambda xi, xj: np.dot(np.sin(np.pi * (xi - xj)/self.theta[1]).T/self.theta[1], \n",
    "                np.sin(np.pi * (xi - xj)/self.theta[1]))/self.theta[0])\n",
    "            K = np.exp(-2*dists)\n",
    "            K = squareform(K)\n",
    "            np.fill_diagonal(K, 1)\n",
    "        else:\n",
    "            dists = cdist(X1, X2, lambda xi, xj: np.dot(np.sin(np.pi * (xi - xj)/self.theta[1]).T/self.theta[0], \n",
    "                np.sin(np.pi * (xi - xj)/self.theta[1]))/self.theta[0])\n",
    "            K = np.exp(-2*dists)\n",
    "        return self.theta[2]*K\n",
    "    \n",
    "#class Matern():\n",
    "#    def __init__(self, length_scale=1.0, frequency=1.0, frequency_bounds=(1e-5, 1e5)):\n",
    "#        self.theta = [length_scale, frequency]\n",
    "#        self.bounds = [frequency_bounds]\n",
    "#    def __call__(self, X1, X2=None):\n",
    "#        if X2 is None:\n",
    "#            # K(X1, X1) is symmetric so avoid redundant computation using pdist.\n",
    "#            dists = pdist(X1, lambda xi, xj: np.dot(np.sin(np.pi * (xi - xj)/self.theta[1]).T/self.theta[1], \n",
    "#                np.sin(np.pi * (xi - xj)/self.theta[1]))/self.theta[0])\n",
    "#            K = np.exp(-2*dists)\n",
    "#            K = squareform(K)\n",
    "#            np.fill_diagonal(K, 1)\n",
    "#        else:\n",
    "#            dists = cdist(X1, X2, lambda xi, xj: np.dot(np.sin(np.pi * (xi - xj)/self.theta[1]).T/self.theta[0], \n",
    "#                np.sin(np.pi * (xi - xj)/self.theta[1]))/self.theta[0])\n",
    "#            K = np.exp(-2*dists)\n",
    "#        return K"
   ]
  },
  {
   "cell_type": "code",
   "execution_count": 4,
   "metadata": {
    "jupyter": {
     "source_hidden": true
    }
   },
   "outputs": [],
   "source": [
    "class add_Kernels():\n",
    "    def __init__(self, k1, k2):\n",
    "        self.kernel1 = k1\n",
    "        self.kernel2 = k2\n",
    "    \n",
    "    def __call__(self, X1, X2=None):\n",
    "        K = self.kernel1(X1, X2) + self.kernel2(X1, X2)\n",
    "        return K\n",
    "    \n",
    "class mult_Kernels():\n",
    "    def __init__(self, k1, k2):\n",
    "        self.kernel1=k1\n",
    "        self.kernel2=k2\n",
    "    \n",
    "    def __call__(self, X1, X2=None):\n",
    "        K = self.kernel1(X1, X2) * self.kernel2(X1, X2)\n",
    "        return K\n"
   ]
  },
  {
   "cell_type": "markdown",
   "metadata": {},
   "source": [
    "# Regression"
   ]
  },
  {
   "cell_type": "markdown",
   "metadata": {},
   "source": [
    "## Prediction "
   ]
  },
  {
   "cell_type": "code",
   "execution_count": 5,
   "metadata": {
    "jupyter": {
     "source_hidden": true
    }
   },
   "outputs": [],
   "source": [
    "# Load the data - measurements of head acceleration in a simulated motorcycle accident,\n",
    "mcycle = pd.read_csv(\n",
    "   \"mcycle.csv\", \n",
    "    dtype=np.float64,\n",
    "    sep=\";\",\n",
    "    decimal=\",\"\n",
    ")"
   ]
  },
  {
   "cell_type": "code",
   "execution_count": 6,
   "metadata": {},
   "outputs": [
    {
     "data": {
      "image/png": "[encoded data removed]",
      "text/plain": [
       "<Figure size 1080x576 with 1 Axes>"
      ]
     },
     "metadata": {
      "needs_background": "light"
     },
     "output_type": "display_data"
    }
   ],
   "source": [
    "fig, ax1 = plt.subplots(figsize=(15, 8))\n",
    "\n",
    "ax1.plot(mcycle['times'],mcycle['accel'], 'r.')\n",
    "ax1.set_title('mcycle')\n",
    "ax1.set_xlabel('time after accident in ms')\n",
    "ax1.set_ylabel('acceleration in g')\n",
    "\n",
    "plt.tight_layout()\n",
    "plt.show()"
   ]
  },
  {
   "cell_type": "code",
   "execution_count": 94,
   "metadata": {},
   "outputs": [],
   "source": [
    "X_train = mcycle.loc[:,\"times\"].ravel().reshape((-1,1))\n",
    "y_train = mcycle.loc[:,\"accel\"].ravel().reshape((-1,1))\n",
    "X_test = np.linspace(0, 70, num=200).reshape((-1,1))"
   ]
  },
  {
   "cell_type": "code",
   "execution_count": 105,
   "metadata": {},
   "outputs": [],
   "source": [
    "# length_scale = 5.25, sigma = 2025, noise_var = 256\n",
    "kernel = gpflow.kernels.SquaredExponential() + gpflow.kernels.White()\n",
    "model = gpflow.models.GPR(data=(X_train, y_train), kernel=kernel)"
   ]
  },
  {
   "cell_type": "code",
   "execution_count": 106,
   "metadata": {},
   "outputs": [
    {
     "name": "stdout",
     "output_type": "stream",
     "text": [
      "name                               class      transform    trainable    shape    dtype      value\n",
      "---------------------------------  ---------  -----------  -----------  -------  -------  -------\n",
      "GPR.kernel.kernels[0].variance     Parameter  Softplus     True         ()       float64        1\n",
      "GPR.kernel.kernels[0].lengthscale  Parameter  Softplus     True         ()       float64        1\n",
      "GPR.kernel.kernels[1].variance     Parameter  Softplus     True         ()       float64        1\n",
      "GPR.likelihood.variance            Parameter  Softplus     True         ()       float64        1\n"
     ]
    }
   ],
   "source": [
    "gpflow.utilities.print_summary(model)"
   ]
  },
  {
   "cell_type": "code",
   "execution_count": 107,
   "metadata": {},
   "outputs": [],
   "source": [
    "model.kernel.kernels[0].variance.assign(1)\n",
    "model.kernel.kernels[0].lengthscale.assign(1)\n",
    "model.kernel.kernels[1].variance.assign(1)"
   ]
  },
  {
   "cell_type": "code",
   "execution_count": 108,
   "metadata": {},
   "outputs": [],
   "source": [
    "f_star_mean, f_star_covar = model.predict_f(X_test)"
   ]
  },
  {
   "cell_type": "code",
   "execution_count": 109,
   "metadata": {},
   "outputs": [
    {
     "data": {
      "image/png": "[encoded data removed]",
      "text/plain": [
       "<Figure size 1080x576 with 1 Axes>"
      ]
     },
     "metadata": {
      "needs_background": "light"
     },
     "output_type": "display_data"
    }
   ],
   "source": [
    "pointwise_variances = tf.squeeze(tf.linalg.diag(f_star_covar))\n",
    "error = 1.96 * np.sqrt(pointwise_variances)\n",
    "\n",
    "# plot\n",
    "fig, ax = plt.subplots(figsize=(15, 8))\n",
    "\n",
    "ax.plot(X_test.ravel(), tf.squeeze(f_star_mean), 'b' )\n",
    "#if f_star_samples is not None:\n",
    "#    ax.plot(X_test, tf.squeeze(f_star_samples), ms=2, lw=.1)\n",
    "ax.fill_between(X_test.ravel(),  tf.squeeze(f_star_mean) - error,  tf.squeeze(f_star_mean) + error, alpha=0.3)\n",
    "ax.plot(X_train, y_train, 'r.', ms=2)\n",
    "\n",
    "plt.tight_layout()\n",
    "plt.show()\n",
    "#"
   ]
  },
  {
   "cell_type": "code",
   "execution_count": 110,
   "metadata": {},
   "outputs": [],
   "source": [
    "opt = gpflow.optimizers.Scipy()"
   ]
  },
  {
   "cell_type": "code",
   "execution_count": 111,
   "metadata": {},
   "outputs": [],
   "source": [
    "def objective_closure():\n",
    "    return - model.log_marginal_likelihood()\n",
    "\n",
    "opt_logs = opt.minimize(objective_closure,\n",
    "                        model.trainable_variables,\n",
    "                        options=dict(maxiter=1000))"
   ]
  },
  {
   "cell_type": "code",
   "execution_count": 112,
   "metadata": {},
   "outputs": [
    {
     "name": "stdout",
     "output_type": "stream",
     "text": [
      "name                               class      transform    trainable    shape    dtype         value\n",
      "---------------------------------  ---------  -----------  -----------  -------  -------  ----------\n",
      "GPR.kernel.kernels[0].variance     Parameter  Softplus     True         ()       float64  2047.19\n",
      "GPR.kernel.kernels[0].lengthscale  Parameter  Softplus     True         ()       float64     5.24064\n",
      "GPR.kernel.kernels[1].variance     Parameter  Softplus     True         ()       float64   254.253\n",
      "GPR.likelihood.variance            Parameter  Softplus     True         ()       float64   254.253\n"
     ]
    }
   ],
   "source": [
    "gpflow.utilities.print_summary(model)"
   ]
  },
  {
   "cell_type": "code",
   "execution_count": 113,
   "metadata": {},
   "outputs": [],
   "source": [
    "f_star_mean, f_star_covar = model.predict_f(X_test)"
   ]
  },
  {
   "cell_type": "code",
   "execution_count": 114,
   "metadata": {},
   "outputs": [
    {
     "data": {
      "image/png": "[encoded data removed]",
      "text/plain": [
       "<Figure size 1080x576 with 1 Axes>"
      ]
     },
     "metadata": {
      "needs_background": "light"
     },
     "output_type": "display_data"
    }
   ],
   "source": [
    "pointwise_variances = tf.squeeze(tf.linalg.diag(f_star_covar))\n",
    "error = 1.96 * np.sqrt(pointwise_variances)\n",
    "\n",
    "# plot\n",
    "fig, ax = plt.subplots(figsize=(15, 8))\n",
    "\n",
    "ax.plot(X_test.ravel(), tf.squeeze(f_star_mean), 'b' )\n",
    "#if f_star_samples is not None:\n",
    "#    ax.plot(X_test, tf.squeeze(f_star_samples), ms=2, lw=.1)\n",
    "ax.fill_between(X_test.ravel(),  tf.squeeze(f_star_mean) - error,  tf.squeeze(f_star_mean) + error, alpha=0.3)\n",
    "ax.plot(X_train, y_train, 'r.', ms=2)\n",
    "\n",
    "plt.tight_layout()\n",
    "plt.show()\n",
    "#"
   ]
  },
  {
   "cell_type": "code",
   "execution_count": null,
   "metadata": {},
   "outputs": [],
   "source": []
  },
  {
   "cell_type": "code",
   "execution_count": null,
   "metadata": {},
   "outputs": [],
   "source": []
  },
  {
   "cell_type": "code",
   "execution_count": null,
   "metadata": {},
   "outputs": [],
   "source": []
  },
  {
   "cell_type": "code",
   "execution_count": null,
   "metadata": {},
   "outputs": [],
   "source": []
  },
  {
   "cell_type": "code",
   "execution_count": null,
   "metadata": {},
   "outputs": [],
   "source": []
  },
  {
   "cell_type": "code",
   "execution_count": null,
   "metadata": {},
   "outputs": [],
   "source": []
  },
  {
   "cell_type": "code",
   "execution_count": null,
   "metadata": {},
   "outputs": [],
   "source": []
  },
  {
   "cell_type": "code",
   "execution_count": null,
   "metadata": {},
   "outputs": [],
   "source": []
  },
  {
   "cell_type": "code",
   "execution_count": null,
   "metadata": {},
   "outputs": [],
   "source": []
  },
  {
   "cell_type": "code",
   "execution_count": null,
   "metadata": {},
   "outputs": [],
   "source": []
  },
  {
   "cell_type": "code",
   "execution_count": null,
   "metadata": {},
   "outputs": [],
   "source": []
  },
  {
   "cell_type": "code",
   "execution_count": null,
   "metadata": {},
   "outputs": [],
   "source": []
  },
  {
   "cell_type": "code",
   "execution_count": null,
   "metadata": {},
   "outputs": [],
   "source": []
  },
  {
   "cell_type": "code",
   "execution_count": null,
   "metadata": {},
   "outputs": [],
   "source": []
  },
  {
   "cell_type": "code",
   "execution_count": null,
   "metadata": {},
   "outputs": [],
   "source": []
  },
  {
   "cell_type": "markdown",
   "metadata": {},
   "source": [
    "## Forecasting"
   ]
  },
  {
   "cell_type": "markdown",
   "metadata": {},
   "source": [
    "### Structured Modeling\n",
    "\n"
   ]
  },
  {
   "cell_type": "markdown",
   "metadata": {},
   "source": [
    "### Regression"
   ]
  },
  {
   "cell_type": "markdown",
   "metadata": {},
   "source": [
    "# Classification"
   ]
  },
  {
   "cell_type": "markdown",
   "metadata": {},
   "source": [
    "# Structured Modeling"
   ]
  },
  {
   "cell_type": "markdown",
   "metadata": {},
   "source": [
    "## Simulated Data 1"
   ]
  },
  {
   "cell_type": "markdown",
   "metadata": {},
   "source": [
    "Local Kernels are not useful for extrapolation -> use Periodic Kernels"
   ]
  },
  {
   "cell_type": "markdown",
   "metadata": {},
   "source": [
    "EXAMPLE WHERE ONE CAN PLAY WITH POINTS AND LENGHT SCALE"
   ]
  },
  {
   "cell_type": "code",
   "execution_count": null,
   "metadata": {},
   "outputs": [],
   "source": [
    "# Simulate\n",
    "def f(x):\n",
    "    return 4 + 0.25*x+np.sin(x)\n",
    "\n",
    "xlim=(-10,10)\n",
    "X_train = np.arange(*xlim, step=2).reshape((-1,1))\n",
    "y_train = f(X_train)#+0.25*np.random.randn(len(X_train)).reshape((-1,1))\n",
    "\n",
    "xlim=(-20,20)\n",
    "#X_test = np.array([[-5],[-1.5],[0],[2.25],[3], [3.2]], dtype=np.longdouble) \n",
    "X_test = np.linspace(*xlim, num=100).reshape((-1,1))"
   ]
  },
  {
   "cell_type": "code",
   "execution_count": null,
   "metadata": {},
   "outputs": [],
   "source": [
    "# plot\n",
    "fig, ax = plt.subplots(figsize=(8, 3))\n",
    "ax.plot(X_train.ravel(), y_train.ravel(), 'b+', ms=10, label='X_train')\n",
    "ax.plot(X_test, np.zeros(len(X_test)).ravel(), 'r.', ms=6, label='X_test')\n",
    "ax.legend(loc=1)\n",
    "plt.show()\n",
    "#"
   ]
  },
  {
   "cell_type": "markdown",
   "metadata": {},
   "source": [
    "EXAMPLE WHERE ONE CAN PLAY WITH POINTS AND LENGHT SCALE"
   ]
  },
  {
   "cell_type": "code",
   "execution_count": null,
   "metadata": {},
   "outputs": [],
   "source": [
    "k1 = SquaredExponential(length_scale=2) # length_scale = 1, 10, 100\n",
    "k2 = Periodic(length_scale=1, period=2*np.pi)\n",
    "k3 = mult_Kernels(SquaredExponential(length_scale=4), Periodic(length_scale=4, period=2*np.pi))\n",
    "k4 = add_Kernels(Linear(), SquaredExponential(length_scale=1))\n",
    "k5 = mult_Kernels(mult_Kernels(Linear(1), Linear(1)), Linear(1))\n",
    "k6 = add_Kernels(Linear(), Periodic(length_scale=2, period=2*np.pi)) \n",
    "kernel_gp = k6\n",
    "gp1 = GPR(kernel=kernel_gp)"
   ]
  },
  {
   "cell_type": "code",
   "execution_count": null,
   "metadata": {},
   "outputs": [],
   "source": [
    "f_star_samples, f_star_mean, f_star_covar = gp1.sample_posterior(\n",
    "    X_train=X_train,\n",
    "    y_train=y_train,\n",
    "    X_test=X_test,\n",
    "    n_samples=100)"
   ]
  },
  {
   "cell_type": "code",
   "execution_count": null,
   "metadata": {},
   "outputs": [],
   "source": [
    "# plot\n",
    "fig, ax = plt.subplots(figsize=(8, 3))\n",
    "if f_star_samples is not None:\n",
    "    ax.plot(X_test, f_star_samples, ms=2, lw=.1)\n",
    "ax.plot(X_test.ravel(), f_star_mean.ravel(), 'b-', ms=10)\n",
    "ax.plot(X_train, y_train, 'r+', ms=6)\n",
    "ax.plot(X_test, f(X_test), 'r-', lw=.1)\n",
    "plt.show()\n",
    "#"
   ]
  },
  {
   "cell_type": "markdown",
   "metadata": {},
   "source": [
    "## Simulated Data 2"
   ]
  },
  {
   "cell_type": "code",
   "execution_count": null,
   "metadata": {},
   "outputs": [],
   "source": [
    "# Simulate\n",
    "def f(x):\n",
    "    return 4+ 0.25*x+np.sin(x)\n",
    "\n",
    "xlim=(-10,10)\n",
    "X_train = np.arange(*xlim, step=2).reshape((-1,1))\n",
    "y_train = f(X_train)#+0.25*np.random.randn(len(X_train)).reshape((-1,1))\n",
    "\n",
    "xlim=(-40,40)\n",
    "#X_test = np.array([[-5],[-1.5],[0],[2.25],[3], [3.2]], dtype=np.longdouble) \n",
    "X_test = np.linspace(*xlim, num=100).reshape((-1,1))"
   ]
  },
  {
   "cell_type": "code",
   "execution_count": null,
   "metadata": {},
   "outputs": [],
   "source": [
    "# plot\n",
    "fig, ax = plt.subplots(figsize=(8, 3))\n",
    "ax.plot(X_train.ravel(), y_train.ravel(), 'b+', ms=10, label='X_train')\n",
    "ax.plot(X_test, np.zeros(len(X_test)).ravel(), 'r.', ms=6, label='X_test')\n",
    "ax.legend(loc=1)\n",
    "plt.show()\n",
    "#"
   ]
  },
  {
   "cell_type": "code",
   "execution_count": null,
   "metadata": {},
   "outputs": [],
   "source": [
    "from sklearn import gaussian_process, linear_model\n",
    "from sklearn.gaussian_process.kernels import (Matern,\n",
    "                                              WhiteKernel,\n",
    "                                              ConstantKernel,\n",
    "                                              RBF,\n",
    "                                              ExpSineSquared,\n",
    "                                              RationalQuadratic\n",
    "                                             )"
   ]
  },
  {
   "cell_type": "code",
   "execution_count": null,
   "metadata": {},
   "outputs": [],
   "source": [
    "k1 = ConstantKernel()\n",
    "k2 = RBF(length_scale=1)\n",
    "k3 = ExpSineSquared(periodicity=2*np.pi)\n",
    "k4 = RBF(length_scale=6)*ExpSineSquared(periodicity=2*np.pi)\n",
    "kernel_gp = RBF(length_scale=2)+RBF(length_scale=100)"
   ]
  },
  {
   "cell_type": "code",
   "execution_count": null,
   "metadata": {},
   "outputs": [],
   "source": [
    "gp2 = gaussian_process.GaussianProcessRegressor(kernel=kernel_gp)\n",
    "gp2.fit(X_train, y_train)\n",
    "print(gp2.kernel_)\n",
    "y_pred, sigma = gp2.predict(X_test, return_std=True)\n"
   ]
  },
  {
   "cell_type": "code",
   "execution_count": null,
   "metadata": {},
   "outputs": [],
   "source": []
  },
  {
   "cell_type": "code",
   "execution_count": null,
   "metadata": {},
   "outputs": [],
   "source": []
  },
  {
   "cell_type": "code",
   "execution_count": null,
   "metadata": {},
   "outputs": [],
   "source": [
    "error = (1.96 * sigma).reshape(-1,1)\n",
    "\n",
    "# plot\n",
    "fig, ax = plt.subplots(figsize=(8, 3))\n",
    "ax.plot(X_test.ravel(), y_pred.ravel(), 'b-' )\n",
    "ax.fill_between(X_test.ravel(), y_pred.ravel() - error.ravel(), y_pred.ravel() + error.ravel(), alpha=0.3)\n",
    "ax.plot(X_train, y_train, 'r+', ms=10)\n",
    "plt.show()\n",
    "#"
   ]
  },
  {
   "cell_type": "markdown",
   "metadata": {},
   "source": [
    "## Simulated Motorcycle Accident "
   ]
  },
  {
   "cell_type": "code",
   "execution_count": null,
   "metadata": {},
   "outputs": [],
   "source": [
    "# Load the data\n",
    "# measurements of head acceleration in a simulated motorcycle accident,\n",
    "mcycle = pd.read_csv(\n",
    "   \"mcycle.csv\", \n",
    "    dtype=np.float64,\n",
    "    sep=\";\",\n",
    "    decimal=\",\"\n",
    ")"
   ]
  },
  {
   "cell_type": "code",
   "execution_count": null,
   "metadata": {},
   "outputs": [],
   "source": [
    "fig, ax1 = plt.subplots(figsize=(8, 6))\n",
    "\n",
    "ax1.plot(mcycle['times'],mcycle['accel'], 'r.')\n",
    "ax1.set_title('mcycle')\n",
    "\n",
    "plt.tight_layout()\n",
    "plt.show()"
   ]
  },
  {
   "cell_type": "code",
   "execution_count": null,
   "metadata": {},
   "outputs": [],
   "source": [
    "X_train = mcycle.loc[:,\"times\"].ravel().reshape((-1,1))\n",
    "y_train = mcycle.loc[:,\"accel\"].ravel().reshape((-1,1))\n",
    "X_test = np.linspace(0, 70, num=200).reshape((-1,1))"
   ]
  },
  {
   "cell_type": "code",
   "execution_count": null,
   "metadata": {},
   "outputs": [],
   "source": [
    "# length_scale = 3, sigma = 1, noise_var = 2\n",
    "k1 = WhiteNoise(1)\n",
    "k2 = SquaredExponential(length_scale=5.25, sigma=2025)\n",
    "k3 = SquaredExponential(length_scale=5, sigma=1)\n",
    "k4 = add_Kernels(k2, k3)\n",
    "gp1 = GPR(kernel=k2, noise_var=256)\n"
   ]
  },
  {
   "cell_type": "code",
   "execution_count": null,
   "metadata": {},
   "outputs": [],
   "source": [
    "f_star_samples, f_star_mean, f_star_covar = gp1.sample_posterior(\n",
    "    X_train=X_train,\n",
    "    y_train=y_train,\n",
    "    X_test=X_test,\n",
    "    n_samples=1)"
   ]
  },
  {
   "cell_type": "code",
   "execution_count": 84,
   "metadata": {},
   "outputs": [
    {
     "data": {
      "image/png": "[encoded data removed]",
      "text/plain": [
       "<Figure size 576x216 with 1 Axes>"
      ]
     },
     "metadata": {
      "needs_background": "light"
     },
     "output_type": "display_data"
    }
   ],
   "source": [
    "#pointwise_variances = f_star_covar.diagonal()\n",
    "#error = 1.96 * np.sqrt(pointwise_variances)\n",
    "\n",
    "# plot\n",
    "fig, ax = plt.subplots(figsize=(15, 3))\n",
    "\n",
    "ax.plot(X_test.ravel(), tf.squeeze(f_star_mean), 'b' )\n",
    "#if f_star_samples is not None:\n",
    "#    ax.plot(X_test, f_star_samples, ms=2, lw=.1)\n",
    "#ax.fill_between(X_test.ravel(), f_star_mean.ravel() - error.ravel(), f_star_mean.ravel() + error.ravel(), alpha=0.3)\n",
    "ax.plot(X_train, y_train, 'r.', ms=2)\n",
    "\n",
    "\n",
    "\n",
    "plt.show()\n",
    "#"
   ]
  },
  {
   "cell_type": "code",
   "execution_count": null,
   "metadata": {},
   "outputs": [],
   "source": [
    "# Create coordinates in parameter space at which to evaluate the lml.\n",
    "length_scales = np.linspace(0.5, 10, 50)\n",
    "sigma = np.linspace(1, 2000, 100)\n",
    "noise_variance = np.linspace(1, 300, 100)\n",
    "X, Y, Z = np.meshgrid(length_scales, sigma, noise_variance)"
   ]
  },
  {
   "cell_type": "code",
   "execution_count": null,
   "metadata": {},
   "outputs": [],
   "source": [
    "# Evaluate the lml at these coordinates.\n",
    "Z = np.array(list(map(lambda x: gp1.log_marginal_likelihood(X_train, y_train, theta=[x[0], x[1]], noise_var=x[2]), list(zip(X.ravel(), Y.ravel(), Z.ravel())))))\n",
    "Z = Z.reshape((X.shape))"
   ]
  },
  {
   "cell_type": "code",
   "execution_count": null,
   "metadata": {},
   "outputs": [],
   "source": [
    "print(gp1.kernel.theta)\n",
    "print(gp1.noise_var)\n"
   ]
  },
  {
   "cell_type": "code",
   "execution_count": null,
   "metadata": {},
   "outputs": [],
   "source": [
    "f_star_samples, f_star_mean, f_star_covar = gp1.sample_posterior(\n",
    "    X_train=X_train,\n",
    "    y_train=y_train,\n",
    "    X_test=X_test,\n",
    "    n_samples=1)"
   ]
  },
  {
   "cell_type": "code",
   "execution_count": null,
   "metadata": {},
   "outputs": [],
   "source": [
    "pointwise_variances = f_star_covar.diagonal()\n",
    "error = 1.96 * np.sqrt(pointwise_variances)\n",
    "\n",
    "# plot\n",
    "fig, ax = plt.subplots(figsize=(8, 3))\n",
    "\n",
    "ax.plot(X_test.ravel(), f_star_mean.ravel(), 'b' )\n",
    "# if f_star_samples is not None:\n",
    "#    ax.plot(X_test, f_star_samples, ms=2, lw=.1)\n",
    "ax.fill_between(X_test.ravel(), f_star_mean.ravel() - error.ravel(), f_star_mean.ravel() + error.ravel(), alpha=0.3)\n",
    "ax.plot(X_train, y_train, 'r.', ms=2)\n",
    "\n",
    "plt.show()\n",
    "#"
   ]
  },
  {
   "cell_type": "code",
   "execution_count": null,
   "metadata": {},
   "outputs": [],
   "source": []
  },
  {
   "cell_type": "markdown",
   "metadata": {},
   "source": [
    "## AirPassenger"
   ]
  },
  {
   "cell_type": "markdown",
   "metadata": {},
   "source": [
    "As a first real world example we will fit a GP to the airline passenger dataset. (Box, G. E. P., Jenkins, G. M. and Reinsel, G. C. (1976) Time Series Analysis, Forecasting and Control. Third Edition. Holden-Day. Series G.)."
   ]
  },
  {
   "cell_type": "code",
   "execution_count": null,
   "metadata": {},
   "outputs": [],
   "source": [
    "from sklearn import gaussian_process, linear_model\n",
    "from sklearn.gaussian_process.kernels import Matern, WhiteKernel, ConstantKernel, RBF, ExpSineSquared, RationalQuadratic"
   ]
  },
  {
   "cell_type": "code",
   "execution_count": null,
   "metadata": {},
   "outputs": [],
   "source": [
    "# Air Passenger Data\n",
    "y=np.array([112, 118, 132, 129, 121,135, 148, 148, 136, 119, 104, 118,\n",
    " 115, 126, 141, 135, 125, 149, 170, 170, 158, 133, 114, 140,\n",
    " 145, 150, 178, 163, 172, 178, 199, 199, 184, 162, 146, 166,\n",
    " 171, 180, 193, 181, 183, 218, 230, 242, 209, 191, 172, 194,\n",
    " 196, 196, 236, 235, 229, 243, 264, 272, 237, 211, 180, 201,\n",
    " 204, 188, 235, 227, 234, 264, 302, 293, 259, 229, 203, 229,\n",
    " 242, 233, 267, 269, 270, 315, 364, 347, 312, 274, 237, 278,\n",
    " 284, 277, 317, 313, 318, 374, 413, 405, 355, 306, 271, 306,\n",
    " 315, 301, 356, 348, 355, 422, 465, 467, 404, 347, 305, 336,\n",
    " 340, 318, 362, 348, 363, 435, 491, 505, 404, 359, 310, 337,\n",
    " 360, 342, 406, 396, 420, 472, 548, 559, 463, 407, 362, 405,\n",
    " 417, 391, 419, 461, 472, 535, 622, 606, 508, 461, 390, 432]).reshape((-1,1))\n",
    "X=np.arange(y.shape[0]).reshape((-1,1))\n",
    "\n",
    "date=pd.date_range('1949-01-01','1960-12-01', \n",
    "              freq='MS')"
   ]
  },
  {
   "cell_type": "code",
   "execution_count": null,
   "metadata": {},
   "outputs": [],
   "source": [
    "fig, (ax1, ax2) = plt.subplots(2, 1, figsize=(8, 6))\n",
    "\n",
    "ax1.plot(date, y)\n",
    "ax1.set_title('AirPassenger')\n",
    "\n",
    "ax2.plot(date, np.log(y))\n",
    "ax2.set_title('Log AirPassenger')\n",
    "\n",
    "plt.tight_layout()\n",
    "plt.show()"
   ]
  },
  {
   "cell_type": "markdown",
   "metadata": {},
   "source": [
    "Due to the increasing variance we fit a GP to the log-transformed data. MEAN FUNCTION!"
   ]
  },
  {
   "cell_type": "markdown",
   "metadata": {},
   "source": [
    "Using the [marginalisation property](https://en.wikipedia.org/wiki/Multivariate_normal_distribution#Marginal_distributions) of multivariate Gaussians, the joint distribution over the observations, $\\mathbf{y}$, and test outputs $\\mathbf{f_*}$ according to the GP prior is\n",
    "$$\\begin{bmatrix} \\mathbf{y} \\\\ \\mathbf{f}_* \\end{bmatrix} = \\mathcal{N}\\left(\\begin{bmatrix} \\mu_{y}\\\\ \\mu_{\\mathbf{f}_*}\\end{bmatrix}, \\begin{bmatrix} K(X, X)  + \\sigma_n^2I && K(X, X_*) \\\\ K(X_*, X) && K(X_*, X_*)\\end{bmatrix}\\right).$$"
   ]
  },
  {
   "cell_type": "markdown",
   "metadata": {},
   "source": [
    "FORMEL ANPASSEN\n",
    "\n",
    "The GP posterior is found by conditioning the joint G.P prior distribution on the observations\n",
    "$$\\mathbf{f}_* | X_*, X, \\mathbf{y} \\sim \\mathcal{N}\\left(\\bar{\\mathbf{f}}_*, \\text{cov}(\\mathbf{f}_*)\\right),$$\n",
    "\n",
    "where \n",
    "\\begin{align*}\n",
    "\\bar{\\mathbf{f}}_* &= K(X_*, X)\\left[K(X, X) + \\sigma_n^2\\right]^{-1}\\mathbf{y} \\\\\n",
    "\\text{cov}(\\mathbf{f}_*) &= K(X_*, X_*) - K(X_*, X)\\left[K(X, X) + \\sigma_n^2\\right]^{-1}K(X, X_*).\n",
    "\\end{align*}\n",
    "\n",
    "Although $\\bar{\\mathbf{f}}_*$ and $\\text{cov}(\\mathbf{f}_*)$ look nasty, they follow the the standard form for the mean and covariance of a conditional Gaussian distribution, and can be derived relatively straightforwardly (see [here](https://stats.stackexchange.com/questions/30588/deriving-the-conditional-distributions-of-a-multivariate-normal-distribution))."
   ]
  },
  {
   "cell_type": "code",
   "execution_count": null,
   "metadata": {},
   "outputs": [],
   "source": [
    "h=24\n",
    "X_train=X[:-h]\n",
    "X_test=np.arange(-h,len(X_train)+h).reshape((-1,1))\n",
    "y_train=np.log(y)[:-h]"
   ]
  },
  {
   "cell_type": "code",
   "execution_count": null,
   "metadata": {},
   "outputs": [],
   "source": [
    "k1 = WhiteNoise(3)\n",
    "k2 = mult_Kernels(RBF(), Periodic(period=12))\n",
    "k3 = add_Kernels(Linear(), k2)\n",
    "k4 = add_Kernels(k1, k3)\n",
    "gp1 = GPR(kernel=k4)\n"
   ]
  },
  {
   "cell_type": "code",
   "execution_count": null,
   "metadata": {},
   "outputs": [],
   "source": [
    "f_star_samples, f_star_mean, f_star_covar = gp1.sample_posterior(\n",
    "    X_train=X_train,\n",
    "    y_train=y_train,\n",
    "    X_test=X_test,\n",
    "    n_samples=1)"
   ]
  },
  {
   "cell_type": "code",
   "execution_count": null,
   "metadata": {},
   "outputs": [],
   "source": [
    "pointwise_variances = f_star_covar.diagonal()\n",
    "error = 1.96 * np.sqrt(pointwise_variances)\n",
    "#plt.fill_between(X_test[:, 0], f_star_mean - error, f_star_mean + error, alpha=0.3)\n",
    "\n",
    "# plot\n",
    "fig, ax = plt.subplots(figsize=(8, 3))\n",
    "ax.plot(X_test.ravel(), f_star_mean.ravel(), 'b' )\n",
    "#ax.fill_between(X_train.ravel(), f_star_mean.ravel() - error.ravel(), f_star_mean.ravel() + error.ravel(), alpha=0.3)\n",
    "ax.plot(X_train, y_train, 'r-', ms=2)\n",
    "plt.show()\n",
    "#"
   ]
  },
  {
   "cell_type": "code",
   "execution_count": null,
   "metadata": {},
   "outputs": [],
   "source": []
  },
  {
   "cell_type": "code",
   "execution_count": null,
   "metadata": {},
   "outputs": [],
   "source": []
  },
  {
   "cell_type": "markdown",
   "metadata": {},
   "source": [
    "The higer the length scale of the SquaredExponential, the slower the covariance decreases."
   ]
  },
  {
   "cell_type": "code",
   "execution_count": null,
   "metadata": {},
   "outputs": [],
   "source": [
    "k1 = ConstantKernel()"
   ]
  },
  {
   "cell_type": "code",
   "execution_count": null,
   "metadata": {},
   "outputs": [],
   "source": [
    "k2 = RBF(length_scale=1)*ExpSineSquared(length_scale=1, periodicity=12)"
   ]
  },
  {
   "cell_type": "code",
   "execution_count": null,
   "metadata": {},
   "outputs": [],
   "source": [
    "#k3 = RBF(length_scale=90)*ExpSineSquared(length_scale=1, periodicity=12)"
   ]
  },
  {
   "cell_type": "code",
   "execution_count": null,
   "metadata": {},
   "outputs": [],
   "source": [
    "k4 =  WhiteKernel(noise_level=1)"
   ]
  },
  {
   "cell_type": "code",
   "execution_count": null,
   "metadata": {},
   "outputs": [],
   "source": [
    "kernel_gp = k1+k2+k4"
   ]
  },
  {
   "cell_type": "code",
   "execution_count": null,
   "metadata": {},
   "outputs": [],
   "source": [
    "GPR = gaussian_process.GaussianProcessRegressor(kernel=kernel_gp)\n",
    "GPR.fit(X_train, y_train)\n",
    "print(GPR.kernel_)\n",
    "#X_test = np.arange(y.shape[0], y.shape[0]+24).reshape(-1,1)\n",
    "y_pred, sigma = GPR.predict(X_test, return_std=True)\n",
    "error = (1.96 * sigma).reshape(-1,1)\n",
    "\n",
    "# plot\n",
    "fig, ax = plt.subplots(figsize=(8, 3))\n",
    "ax.plot(X_test.ravel(), y_pred.ravel(), 'b' )\n",
    "#ax.fill_between(X_train.ravel(), y_pred.ravel() - error.ravel(), y_pred.ravel() + error.ravel(), alpha=0.3)\n",
    "ax.plot(X_train, y_train, 'r-', ms=2)\n",
    "plt.show()\n",
    "#"
   ]
  },
  {
   "cell_type": "markdown",
   "metadata": {},
   "source": [
    "## Mauna Loa CO₂ data"
   ]
  },
  {
   "cell_type": "markdown",
   "metadata": {},
   "source": [
    "Source Rasmussen Williams"
   ]
  },
  {
   "cell_type": "code",
   "execution_count": null,
   "metadata": {},
   "outputs": [],
   "source": [
    "# Load the data\n",
    "# Load the data from the Scripps CO2 program website. \n",
    "co2_df = pd.read_csv(\n",
    "    # Source: https://scrippsco2.ucsd.edu/assets/data/atmospheric/stations/in_situ_co2/monthly/monthly_in_situ_co2_mlo.csv\n",
    "    './monthly_in_situ_co2_mlo.csv', \n",
    "    header=54, # Data starts here\n",
    "    skiprows=[55, 56], # Headers consist of multiple rows\n",
    "    usecols=[3, 4], # Only keep the 'Date' and 'CO2' columns\n",
    "    na_values='-99.99',  # NaNs are denoted as '-99.99'\n",
    "    dtype=np.float64\n",
    ")\n",
    "\n",
    "# Drop missing values\n",
    "co2_df.dropna(inplace=True)\n",
    "# Remove whitespace from column names\n",
    "co2_df.rename(columns=lambda x: x.strip(), inplace=True)\n",
    "#"
   ]
  },
  {
   "cell_type": "code",
   "execution_count": null,
   "metadata": {},
   "outputs": [],
   "source": [
    "# Plot data\n",
    "fig, ax = plt.subplots(figsize=(8, 3))\n",
    "ax.plot(co2_df.Date, co2_df.CO2)\n",
    "plt.show()\n",
    "#"
   ]
  },
  {
   "cell_type": "markdown",
   "metadata": {},
   "source": [
    "periodic, non-stationary, no reason to assum perfect periodicity, noise"
   ]
  },
  {
   "cell_type": "code",
   "execution_count": null,
   "metadata": {},
   "outputs": [],
   "source": [
    "X_train = co2_df.iloc[:,0].ravel().reshape((-1,1))\n",
    "X_test = np.linspace(1959, 2030, num = 71*12).reshape((-1, 1))\n",
    "y_train = co2_df.iloc[:,1].ravel().reshape((-1,1))\n"
   ]
  },
  {
   "cell_type": "code",
   "execution_count": null,
   "metadata": {},
   "outputs": [],
   "source": [
    "# Squared Exponential\n",
    "\n",
    "# Locally Periodic \n",
    "\n",
    "# Rational Quadratic"
   ]
  },
  {
   "cell_type": "code",
   "execution_count": null,
   "metadata": {},
   "outputs": [],
   "source": [
    "# Rasmussen and Williams\n",
    "\n",
    "k1 = SquaredExponential(sigma = 66, length_scale=67)\n",
    "k2 = mult_Kernels(SquaredExponential(sigma=2.4, length_scale=90), Periodic(length_scale=1.0, period=1.3))\n",
    "k3 = RationalQuadratic(sigma=0.66, length_scale=1.2, alpha=0.78)\n",
    "k4 = mult_Kernels(SquaredExponential(sigma=0.18, length_scale=1.6), WhiteNoise(0.19))\n",
    "k5 = add_Kernels(k1, k2)\n",
    "k6 = add_Kernels(k3, k4)\n",
    "k6 = add_Kernels(k5, k6)\n",
    "\n",
    "gp1 = GPR(kernel=k7)\n"
   ]
  },
  {
   "cell_type": "code",
   "execution_count": null,
   "metadata": {},
   "outputs": [],
   "source": [
    "#k1 = mult_Kernels(Linear(), SquaredExponential(length_scale=100))\n",
    "#k2 = mult_Kernels(SquaredExponential(length_scale=2), Periodic())\n",
    "#k3 = mult_Kernels(SquaredExponential(), RationalQuadratic())\n",
    "#k4 = add_Kernels(k1, k2)\n",
    "#k5 = add_Kernels(k3, k4)\n",
    "#k6 = add_Kernels(k5, WhiteNoise())\n",
    "#gp1 = GPR(kernel=k6)\n",
    "\n",
    "\n"
   ]
  },
  {
   "cell_type": "code",
   "execution_count": null,
   "metadata": {},
   "outputs": [],
   "source": [
    "f_star_samples, f_star_mean, f_star_covar = gp1.sample_posterior(\n",
    "    X_train=X_train,\n",
    "    y_train=y_train,\n",
    "    X_test=X_test,\n",
    "    n_samples=1)"
   ]
  },
  {
   "cell_type": "code",
   "execution_count": null,
   "metadata": {},
   "outputs": [],
   "source": [
    "pointwise_variances = f_star_covar.diagonal()\n",
    "error = 1.96 * np.sqrt(pointwise_variances)\n",
    "\n",
    "# plot\n",
    "fig, ax = plt.subplots(figsize=(8, 3))\n",
    "ax.plot(X_test.ravel(), f_star_mean.ravel(), 'b' )\n",
    "\n",
    "if f_star_samples is not None:\n",
    "    ax.plot(X_test, f_star_samples, ms=2, lw=.1)\n",
    "ax.plot(X_train, y_train, 'r-', ms=2)\n",
    "plt.show()\n",
    "#"
   ]
  },
  {
   "cell_type": "markdown",
   "metadata": {},
   "source": [
    "#### scikit-learn"
   ]
  },
  {
   "cell_type": "code",
   "execution_count": null,
   "metadata": {},
   "outputs": [],
   "source": [
    "k1 = ConstantKernel()#*ConstantKernel()\n",
    "k2 = RBF(length_scale=2)*ExpSineSquared(length_scale=.5, periodicity=12)\n",
    "k3 = RBF(length_scale=100)\n",
    "k4 = RBF(length_scale=1)\n",
    "k5 =  WhiteKernel(noise_level=1)\n",
    "kernel_gp = k1 + k2 + k5"
   ]
  },
  {
   "cell_type": "code",
   "execution_count": null,
   "metadata": {},
   "outputs": [],
   "source": [
    "gpr = gaussian_process.GaussianProcessRegressor(kernel=kernel_gp)\n",
    "gpr.fit(X_train, y_train)\n",
    "print(gpr.kernel_)\n",
    "y_pred, sigma = gpr.predict(X_test, return_std=True)\n"
   ]
  },
  {
   "cell_type": "code",
   "execution_count": null,
   "metadata": {},
   "outputs": [],
   "source": [
    "error = (1.96 * sigma).reshape(-1,1)\n",
    "# plot\n",
    "fig, ax = plt.subplots(figsize=(8, 3))\n",
    "ax.plot(X_test.ravel(), y_pred.ravel(), 'b' )\n",
    "#ax.fill_between(X_train.ravel(), y_pred.ravel() - error.ravel(), y_pred.ravel() + error.ravel(), alpha=0.3)\n",
    "ax.plot(X_train, y_train, 'r-', ms=2)\n",
    "plt.show()\n",
    "#"
   ]
  },
  {
   "cell_type": "code",
   "execution_count": null,
   "metadata": {},
   "outputs": [],
   "source": []
  },
  {
   "cell_type": "code",
   "execution_count": null,
   "metadata": {},
   "outputs": [],
   "source": [
    "34.4**2 * RBF(length_scale=41.8)\n",
    "+ 3.27**2 * RBF(length_scale=180) * ExpSineSquared(length_scale=1.44,\n",
    "                                                   periodicity=1)\n",
    "+ 0.446**2 * RationalQuadratic(alpha=17.7, length_scale=0.957)\n",
    "+ 0.197**2 * RBF(length_scale=0.138) + WhiteKernel(noise_level=0.0336)"
   ]
  },
  {
   "cell_type": "code",
   "execution_count": null,
   "metadata": {},
   "outputs": [],
   "source": []
  },
  {
   "cell_type": "code",
   "execution_count": null,
   "metadata": {},
   "outputs": [],
   "source": []
  },
  {
   "cell_type": "markdown",
   "metadata": {},
   "source": [
    "## GPflow"
   ]
  },
  {
   "cell_type": "code",
   "execution_count": null,
   "metadata": {},
   "outputs": [],
   "source": [
    "from typing import Tuple, Optional\n",
    "from pathlib import Path\n",
    "\n",
    "import datetime\n",
    "import io\n",
    "import matplotlib.pyplot as plt\n",
    "\n",
    "import numpy as np\n",
    "import tensorflow as tf\n",
    "import gpflow\n",
    "\n",
    "from gpflow.config import default_float\n",
    "\n",
    "import warnings\n",
    "\n",
    "warnings.filterwarnings('ignore')\n"
   ]
  },
  {
   "cell_type": "code",
   "execution_count": null,
   "metadata": {},
   "outputs": [],
   "source": [
    "output_logdir = \"/tmp/tensorboard\"\n",
    "\n",
    "!rm -rf \"{output_logdir}\"\n",
    "!mkdir \"{output_logdir}\"\n",
    "\n",
    "%load_ext tensorboard\n",
    "%matplotlib inline\n",
    "\n",
    "\n",
    "def enumerated_logdir(_logdir_id: int = [0]):\n",
    "    logdir = Path(output_logdir, str(_logdir_id[0]))\n",
    "    _logdir_id[0] += 1\n",
    "    return str(logdir)"
   ]
  },
  {
   "cell_type": "code",
   "execution_count": null,
   "metadata": {},
   "outputs": [],
   "source": [
    "\n",
    "\n",
    "gpflow.config.set_default_float(np.float64)\n",
    "np.random.seed(0)\n",
    "tf.random.set_seed(0)\n",
    "\n"
   ]
  },
  {
   "cell_type": "code",
   "execution_count": null,
   "metadata": {},
   "outputs": [],
   "source": [
    "def noisy_sin(x): \n",
    "    return tf.math.sin(x) + 0.1 * tf.random.normal(x.shape, dtype=default_float())\n",
    "\n",
    "num_train_data, num_test_data = 100, 500\n",
    "\n",
    "X = tf.random.uniform((num_train_data, 1), dtype=default_float()) * 10\n",
    "Xtest = tf.random.uniform((num_test_data, 1), dtype=default_float()) * 10\n",
    "\n",
    "Y = noisy_sin(X)\n",
    "Ytest = noisy_sin(Xtest)\n",
    "\n",
    "data = (X, Y)\n",
    "\n",
    "plt.plot(X, Y, 'xk')\n",
    "plt.show()"
   ]
  },
  {
   "cell_type": "code",
   "execution_count": null,
   "metadata": {},
   "outputs": [],
   "source": [
    "train_dataset = tf.data.Dataset.from_tensor_slices((X, Y))\n",
    "test_dataset = tf.data.Dataset.from_tensor_slices((Xtest, Ytest))\n",
    "\n",
    "batch_size = 32\n",
    "num_features = 10\n",
    "prefetch_size = num_train_data // 2\n",
    "shuffle_buffer_size = num_train_data // 2\n",
    "num_batches_per_epoch = num_train_data // batch_size\n",
    "\n",
    "original_train_dataset = train_dataset\n",
    "train_dataset = train_dataset.repeat()\\\n",
    "                    .prefetch(prefetch_size)\\\n",
    "                    .shuffle(buffer_size=shuffle_buffer_size)\\\n",
    "                    .batch(batch_size)\n",
    "\n",
    "print(f\"prefetch_size={prefetch_size}\")\n",
    "print(f\"shuffle_buffer_size={shuffle_buffer_size}\")\n",
    "print(f\"num_batches_per_epoch={num_batches_per_epoch}\")"
   ]
  },
  {
   "cell_type": "code",
   "execution_count": null,
   "metadata": {},
   "outputs": [],
   "source": [
    "kernel = gpflow.kernels.RBF(variance=2.)\n",
    "likelihood = gpflow.likelihoods.Gaussian()\n",
    "inducing_variable = np.linspace(0, 10, num_features).reshape(-1, 1)\n",
    "\n",
    "model = gpflow.models.SVGP(kernel=kernel, likelihood=likelihood, inducing_variable=inducing_variable)"
   ]
  },
  {
   "cell_type": "code",
   "execution_count": null,
   "metadata": {},
   "outputs": [],
   "source": [
    "from gpflow.utilities import set_trainable\n",
    "\n",
    "set_trainable(likelihood, False)\n",
    "set_trainable(kernel.variance, False)\n",
    "\n",
    "set_trainable(likelihood, True)\n",
    "set_trainable(kernel.variance, True)"
   ]
  },
  {
   "cell_type": "code",
   "execution_count": null,
   "metadata": {},
   "outputs": [],
   "source": [
    "kernel.lengthscale.assign(0.5)"
   ]
  },
  {
   "cell_type": "code",
   "execution_count": null,
   "metadata": {},
   "outputs": [],
   "source": [
    "from gpflow.utilities import print_summary\n",
    "\n",
    "print_summary(model)  # same as print_summary(model, fmt=\"simple\")"
   ]
  },
  {
   "cell_type": "code",
   "execution_count": null,
   "metadata": {},
   "outputs": [],
   "source": [
    "gpflow.config.set_default_summary_fmt(\"notebook\")\n",
    "\n",
    "print_summary(model)  # same as print_summary(model, fmt=\"notebook\")"
   ]
  },
  {
   "cell_type": "code",
   "execution_count": null,
   "metadata": {},
   "outputs": [],
   "source": [
    "\n",
    "\n",
    "optimizer = tf.optimizers.Adam()\n",
    "\n",
    "with tf.GradientTape() as tape:\n",
    "    tape.watch(model.trainable_variables)\n",
    "    obj = - model.elbo(data)\n",
    "    grads = tape.gradient(obj, model.trainable_variables)\n",
    "    \n",
    "optimizer.apply_gradients(zip(grads, model.trainable_variables))\n",
    "\n"
   ]
  },
  {
   "cell_type": "code",
   "execution_count": null,
   "metadata": {},
   "outputs": [],
   "source": [
    "def optimization_step(model: gpflow.models.SVGP, batch: Tuple[tf.Tensor, tf.Tensor]):\n",
    "    with tf.GradientTape(watch_accessed_variables=False) as tape:\n",
    "        tape.watch(model.trainable_variables)\n",
    "        obj = - model.elbo(batch)\n",
    "        grads = tape.gradient(obj, model.trainable_variables)\n",
    "    optimizer.apply_gradients(zip(grads, model.trainable_variables))"
   ]
  },
  {
   "cell_type": "code",
   "execution_count": null,
   "metadata": {},
   "outputs": [],
   "source": [
    "def simple_training_loop(model: gpflow.models.SVGP, epochs: int = 1, logging_epoch_freq: int = 10):\n",
    "    batches = iter(train_dataset)\n",
    "    tf_optimization_step = tf.function(optimization_step, autograph=False)\n",
    "    for epoch in range(epochs):\n",
    "        for _ in range(num_batches_per_epoch):\n",
    "            tf_optimization_step(model, next(batches))\n",
    "\n",
    "        epoch_id = epoch + 1\n",
    "        if epoch_id % logging_epoch_freq == 0:\n",
    "            tf.print(f\"Epoch {epoch_id}: ELBO (train) {model.elbo(data)}\")"
   ]
  },
  {
   "cell_type": "code",
   "execution_count": null,
   "metadata": {},
   "outputs": [],
   "source": [
    "from intro_to_gpflow2_plotting import plotting_regression, summary_matplotlib_image\n",
    "\n",
    "samples_input = tf.cast(np.linspace(0, 10, 100).reshape(100, 1), default_float())\n",
    "\n",
    "def monitored_training_loop(model: gpflow.models.SVGP, logdir: str, \n",
    "                            epochs: int = 1, logging_epoch_freq: int = 10,\n",
    "                            num_samples: int = 10):\n",
    "    summary_writer = tf.summary.create_file_writer(logdir)\n",
    "    tf_optimization_step = tf.function(optimization_step)\n",
    "    batches = iter(train_dataset)\n",
    "\n",
    "    with summary_writer.as_default():\n",
    "        for epoch in range(epochs):\n",
    "            for _ in range(num_batches_per_epoch):\n",
    "                tf_optimization_step(model, next(batches))\n",
    "\n",
    "            epoch_id = epoch + 1\n",
    "            if epoch_id % logging_epoch_freq == 0:\n",
    "                tf.print(f\"Epoch {epoch_id}: ELBO (train) {model.elbo(data)}\")\n",
    "\n",
    "                mean, var = model.predict_f(samples_input)\n",
    "                samples = model.predict_f_samples(samples_input, num_samples)\n",
    "                fig = plotting_regression(X, Y, samples_input, mean, var, samples)\n",
    "                \n",
    "                summary_matplotlib_image(dict(model_samples=fig), step=epoch)\n",
    "                tf.summary.scalar('elbo', data=model.elbo(data), step=epoch)\n",
    "                tf.summary.scalar('likelihood/variance', data=model.likelihood.variance, step=epoch)\n",
    "                tf.summary.scalar('kernel/lengthscale', data=model.kernel.lengthscale, step=epoch)\n",
    "                tf.summary.scalar('kernel/variance', data=model.kernel.variance, step=epoch)"
   ]
  },
  {
   "cell_type": "code",
   "execution_count": null,
   "metadata": {},
   "outputs": [],
   "source": [
    "model = gpflow.models.SVGP(kernel=kernel, likelihood=likelihood, inducing_variable=inducing_variable)\n",
    "\n",
    "output_logdir = enumerated_logdir()\n",
    "monitored_training_loop(model, output_logdir, epochs=1000, logging_epoch_freq=100)"
   ]
  },
  {
   "cell_type": "code",
   "execution_count": null,
   "metadata": {},
   "outputs": [],
   "source": []
  },
  {
   "cell_type": "code",
   "execution_count": null,
   "metadata": {},
   "outputs": [],
   "source": []
  },
  {
   "cell_type": "code",
   "execution_count": null,
   "metadata": {},
   "outputs": [],
   "source": []
  }
 ],
 "metadata": {
  "kernelspec": {
   "display_name": "Python 3",
   "language": "python",
   "name": "python3"
  },
  "language_info": {
   "codemirror_mode": {
    "name": "ipython",
    "version": 3
   },
   "file_extension": ".py",
   "mimetype": "text/x-python",
   "name": "python",
   "nbconvert_exporter": "python",
   "pygments_lexer": "ipython3",
   "version": "3.6.8"
  }
 },
 "nbformat": 4,
 "nbformat_minor": 4
}
